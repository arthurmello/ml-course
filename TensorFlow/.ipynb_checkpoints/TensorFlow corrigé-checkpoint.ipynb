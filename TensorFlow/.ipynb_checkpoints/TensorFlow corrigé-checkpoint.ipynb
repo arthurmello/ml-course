{
 "cells": [
  {
   "cell_type": "code",
   "execution_count": 1,
   "id": "fe438529",
   "metadata": {},
   "outputs": [
    {
     "name": "stdout",
     "output_type": "stream",
     "text": [
      "Requirement already satisfied: tensorflow==2.7.0 in c:\\users\\avisia\\anaconda3\\lib\\site-packages (2.7.0)\n",
      "Requirement already satisfied: six>=1.12.0 in c:\\users\\avisia\\anaconda3\\lib\\site-packages (from tensorflow==2.7.0) (1.15.0)\n",
      "Requirement already satisfied: wheel<1.0,>=0.32.0 in c:\\users\\avisia\\anaconda3\\lib\\site-packages (from tensorflow==2.7.0) (0.36.2)\n",
      "Requirement already satisfied: gast<0.5.0,>=0.2.1 in c:\\users\\avisia\\anaconda3\\lib\\site-packages (from tensorflow==2.7.0) (0.4.0)\n",
      "Requirement already satisfied: keras<2.8,>=2.7.0rc0 in c:\\users\\avisia\\anaconda3\\lib\\site-packages (from tensorflow==2.7.0) (2.7.0)\n",
      "Requirement already satisfied: absl-py>=0.4.0 in c:\\users\\avisia\\anaconda3\\lib\\site-packages (from tensorflow==2.7.0) (0.12.0)\n",
      "Requirement already satisfied: flatbuffers<3.0,>=1.12 in c:\\users\\avisia\\anaconda3\\lib\\site-packages (from tensorflow==2.7.0) (2.0)\n",
      "Requirement already satisfied: wrapt>=1.11.0 in c:\\users\\avisia\\anaconda3\\lib\\site-packages (from tensorflow==2.7.0) (1.12.1)\n",
      "Requirement already satisfied: h5py>=2.9.0 in c:\\users\\avisia\\anaconda3\\lib\\site-packages (from tensorflow==2.7.0) (2.10.0)\n",
      "Requirement already satisfied: astunparse>=1.6.0 in c:\\users\\avisia\\anaconda3\\lib\\site-packages (from tensorflow==2.7.0) (1.6.3)\n",
      "Requirement already satisfied: tensorflow-io-gcs-filesystem>=0.21.0 in c:\\users\\avisia\\anaconda3\\lib\\site-packages (from tensorflow==2.7.0) (0.22.0)\n",
      "Requirement already satisfied: typing-extensions>=3.6.6 in c:\\users\\avisia\\anaconda3\\lib\\site-packages (from tensorflow==2.7.0) (3.7.4.3)\n",
      "Requirement already satisfied: tensorflow-estimator<2.8,~=2.7.0rc0 in c:\\users\\avisia\\anaconda3\\lib\\site-packages (from tensorflow==2.7.0) (2.7.0)\n",
      "Requirement already satisfied: keras-preprocessing>=1.1.1 in c:\\users\\avisia\\anaconda3\\lib\\site-packages (from tensorflow==2.7.0) (1.1.2)\n",
      "Requirement already satisfied: termcolor>=1.1.0 in c:\\users\\avisia\\anaconda3\\lib\\site-packages (from tensorflow==2.7.0) (1.1.0)\n",
      "Requirement already satisfied: grpcio<2.0,>=1.24.3 in c:\\users\\avisia\\anaconda3\\lib\\site-packages (from tensorflow==2.7.0) (1.41.1)\n",
      "Requirement already satisfied: tensorboard~=2.6 in c:\\users\\avisia\\anaconda3\\lib\\site-packages (from tensorflow==2.7.0) (2.7.0)\n",
      "Requirement already satisfied: libclang>=9.0.1 in c:\\users\\avisia\\anaconda3\\lib\\site-packages (from tensorflow==2.7.0) (12.0.0)\n",
      "Requirement already satisfied: protobuf>=3.9.2 in c:\\users\\avisia\\anaconda3\\lib\\site-packages (from tensorflow==2.7.0) (3.19.1)\n",
      "Requirement already satisfied: numpy>=1.14.5 in c:\\users\\avisia\\anaconda3\\lib\\site-packages (from tensorflow==2.7.0) (1.20.1)\n",
      "Requirement already satisfied: google-pasta>=0.1.1 in c:\\users\\avisia\\anaconda3\\lib\\site-packages (from tensorflow==2.7.0) (0.2.0)\n",
      "Requirement already satisfied: opt-einsum>=2.3.2 in c:\\users\\avisia\\anaconda3\\lib\\site-packages (from tensorflow==2.7.0) (3.3.0)\n",
      "Requirement already satisfied: requests<3,>=2.21.0 in c:\\users\\avisia\\anaconda3\\lib\\site-packages (from tensorboard~=2.6->tensorflow==2.7.0) (2.25.1)\n",
      "Requirement already satisfied: werkzeug>=0.11.15 in c:\\users\\avisia\\anaconda3\\lib\\site-packages (from tensorboard~=2.6->tensorflow==2.7.0) (1.0.1)\n",
      "Requirement already satisfied: markdown>=2.6.8 in c:\\users\\avisia\\anaconda3\\lib\\site-packages (from tensorboard~=2.6->tensorflow==2.7.0) (3.3.4)\n",
      "Requirement already satisfied: tensorboard-plugin-wit>=1.6.0 in c:\\users\\avisia\\anaconda3\\lib\\site-packages (from tensorboard~=2.6->tensorflow==2.7.0) (1.8.0)\n",
      "Requirement already satisfied: google-auth<3,>=1.6.3 in c:\\users\\avisia\\anaconda3\\lib\\site-packages (from tensorboard~=2.6->tensorflow==2.7.0) (2.3.3)\n",
      "Requirement already satisfied: setuptools>=41.0.0 in c:\\users\\avisia\\anaconda3\\lib\\site-packages (from tensorboard~=2.6->tensorflow==2.7.0) (52.0.0.post20210125)\n",
      "Requirement already satisfied: tensorboard-data-server<0.7.0,>=0.6.0 in c:\\users\\avisia\\anaconda3\\lib\\site-packages (from tensorboard~=2.6->tensorflow==2.7.0) (0.6.1)\n",
      "Requirement already satisfied: google-auth-oauthlib<0.5,>=0.4.1 in c:\\users\\avisia\\anaconda3\\lib\\site-packages (from tensorboard~=2.6->tensorflow==2.7.0) (0.4.6)\n",
      "Requirement already satisfied: rsa<5,>=3.1.4 in c:\\users\\avisia\\anaconda3\\lib\\site-packages (from google-auth<3,>=1.6.3->tensorboard~=2.6->tensorflow==2.7.0) (4.7.2)\n",
      "Requirement already satisfied: pyasn1-modules>=0.2.1 in c:\\users\\avisia\\anaconda3\\lib\\site-packages (from google-auth<3,>=1.6.3->tensorboard~=2.6->tensorflow==2.7.0) (0.2.8)\n",
      "Requirement already satisfied: cachetools<5.0,>=2.0.0 in c:\\users\\avisia\\anaconda3\\lib\\site-packages (from google-auth<3,>=1.6.3->tensorboard~=2.6->tensorflow==2.7.0) (4.2.2)\n",
      "Requirement already satisfied: requests-oauthlib>=0.7.0 in c:\\users\\avisia\\anaconda3\\lib\\site-packages (from google-auth-oauthlib<0.5,>=0.4.1->tensorboard~=2.6->tensorflow==2.7.0) (1.3.0)\n",
      "Requirement already satisfied: pyasn1<0.5.0,>=0.4.6 in c:\\users\\avisia\\anaconda3\\lib\\site-packages (from pyasn1-modules>=0.2.1->google-auth<3,>=1.6.3->tensorboard~=2.6->tensorflow==2.7.0) (0.4.8)\n",
      "Requirement already satisfied: certifi>=2017.4.17 in c:\\users\\avisia\\anaconda3\\lib\\site-packages (from requests<3,>=2.21.0->tensorboard~=2.6->tensorflow==2.7.0) (2020.12.5)\n",
      "Requirement already satisfied: urllib3<1.27,>=1.21.1 in c:\\users\\avisia\\anaconda3\\lib\\site-packages (from requests<3,>=2.21.0->tensorboard~=2.6->tensorflow==2.7.0) (1.26.4)\n",
      "Requirement already satisfied: idna<3,>=2.5 in c:\\users\\avisia\\anaconda3\\lib\\site-packages (from requests<3,>=2.21.0->tensorboard~=2.6->tensorflow==2.7.0) (2.10)\n",
      "Requirement already satisfied: chardet<5,>=3.0.2 in c:\\users\\avisia\\anaconda3\\lib\\site-packages (from requests<3,>=2.21.0->tensorboard~=2.6->tensorflow==2.7.0) (4.0.0)\n",
      "Requirement already satisfied: oauthlib>=3.0.0 in c:\\users\\avisia\\anaconda3\\lib\\site-packages (from requests-oauthlib>=0.7.0->google-auth-oauthlib<0.5,>=0.4.1->tensorboard~=2.6->tensorflow==2.7.0) (3.1.1)\n"
     ]
    }
   ],
   "source": [
    "!pip install tensorflow==2.7.0"
   ]
  },
  {
   "cell_type": "code",
   "execution_count": 1,
   "id": "6c95da92",
   "metadata": {},
   "outputs": [
    {
     "name": "stdout",
     "output_type": "stream",
     "text": [
      "TensorFlow version: 2.7.0\n"
     ]
    }
   ],
   "source": [
    "import numpy as np\n",
    "import tensorflow as tf\n",
    "import matplotlib.pyplot as plt\n",
    "\n",
    "print(\"TensorFlow version: \"+tf.version.VERSION)"
   ]
  },
  {
   "cell_type": "markdown",
   "id": "6ca0e3ad",
   "metadata": {},
   "source": [
    "# Les opérations basiques"
   ]
  },
  {
   "cell_type": "code",
   "execution_count": 2,
   "id": "41961bbb",
   "metadata": {},
   "outputs": [
    {
     "name": "stdout",
     "output_type": "stream",
     "text": [
      "a = 2\n",
      "b = 3\n"
     ]
    }
   ],
   "source": [
    "# Définissez a et b, deux constantes égales à 2 et 3, respectivement\n",
    "a = tf.constant(2)\n",
    "print(\"a = %i\" % a)\n",
    "\n",
    "b = tf.constant(3)\n",
    "print(\"b = %i\" % b)"
   ]
  },
  {
   "cell_type": "code",
   "execution_count": 3,
   "id": "0bcee926",
   "metadata": {},
   "outputs": [
    {
     "name": "stdout",
     "output_type": "stream",
     "text": [
      "a + b = 5\n",
      "a * b = 6\n"
     ]
    }
   ],
   "source": [
    "# Calculez c, la somme de a et b\n",
    "c = a + b\n",
    "print(\"a + b = %i\" % c)\n",
    "\n",
    "# Calculez d, le produit de a et b\n",
    "d = a * b\n",
    "print(\"a * b = %i\" % d)"
   ]
  },
  {
   "cell_type": "code",
   "execution_count": 4,
   "id": "d6d4429b",
   "metadata": {},
   "outputs": [
    {
     "name": "stdout",
     "output_type": "stream",
     "text": [
      "Opérations entre Tensors et Numpy Arrays \n",
      "\n",
      "Tensor: \n",
      " a = tf.Tensor(\n",
      "[[2. 1.]\n",
      " [1. 0.]], shape=(2, 2), dtype=float32)\n",
      "NumpyArray: \n",
      " b = [[3. 0.]\n",
      " [5. 1.]]\n"
     ]
    }
   ],
   "source": [
    "# Compatibilité entre Tensors et Numpy Arrays\n",
    "print(\"Opérations entre Tensors et Numpy Arrays \\n\")\n",
    "\n",
    "# Définissez a et b, un tensor et un array, respectivement (dimensions 2 x 2)\n",
    "a = tf.constant([[2., 1.],\n",
    "                 [1., 0.]], dtype=tf.float32)\n",
    "print(\"Tensor: \\n a = %s\" % a)\n",
    "\n",
    "b = np.array([[3., 0.],\n",
    "              [5., 1.]], dtype=np.float32)\n",
    "print(\"NumpyArray: \\n b = %s\" % b)"
   ]
  },
  {
   "cell_type": "code",
   "execution_count": 5,
   "id": "f537f752",
   "metadata": {},
   "outputs": [
    {
     "name": "stdout",
     "output_type": "stream",
     "text": [
      "a + b = tf.Tensor(\n",
      "[[5. 1.]\n",
      " [6. 1.]], shape=(2, 2), dtype=float32)\n",
      "a * b = tf.Tensor(\n",
      "[[11.  1.]\n",
      " [ 3.  0.]], shape=(2, 2), dtype=float32)\n"
     ]
    }
   ],
   "source": [
    "# Calculez c, la somme de a et b \n",
    "c = a + b\n",
    "print(\"a + b = %s\" % c)\n",
    "\n",
    "# Calculez d, le produit de a et b\n",
    "d = tf.matmul(a, b)\n",
    "print(\"a * b = %s\" % d)"
   ]
  },
  {
   "cell_type": "code",
   "execution_count": 6,
   "id": "29adf7f4",
   "metadata": {},
   "outputs": [
    {
     "name": "stdout",
     "output_type": "stream",
     "text": [
      "Iterate through Tensor 'a':\n",
      "tf.Tensor(2.0, shape=(), dtype=float32)\n",
      "tf.Tensor(1.0, shape=(), dtype=float32)\n",
      "tf.Tensor(1.0, shape=(), dtype=float32)\n",
      "tf.Tensor(0.0, shape=(), dtype=float32)\n"
     ]
    }
   ],
   "source": [
    "# Itérez sur le tensor a (affichez tous ses élements individuelment)\n",
    "print(\"Iterate through Tensor 'a':\")\n",
    "for i in range(a.shape[0]):\n",
    "    for j in range(a.shape[1]):\n",
    "        print(a[i][j])"
   ]
  },
  {
   "cell_type": "markdown",
   "id": "97273c91",
   "metadata": {},
   "source": [
    "# Régression Linéaire"
   ]
  },
  {
   "cell_type": "code",
   "execution_count": 7,
   "id": "d8b9157c",
   "metadata": {},
   "outputs": [
    {
     "data": {
      "text/plain": [
       "<matplotlib.collections.PathCollection at 0x14cc20077c0>"
      ]
     },
     "execution_count": 7,
     "metadata": {},
     "output_type": "execute_result"
    },
    {
     "data": {
      "image/png": "[encoded data removed]",
      "text/plain": [
       "<Figure size 432x288 with 1 Axes>"
      ]
     },
     "metadata": {
      "needs_background": "light"
     },
     "output_type": "display_data"
    }
   ],
   "source": [
    "# Dataset d'entraînement\n",
    "x_train = np.linspace(0, 10, 100)\n",
    "y_train = x_train + np.random.normal(0,1,100)\n",
    "\n",
    "# Nuage de points\n",
    "plt.scatter(x_train, y_train)"
   ]
  },
  {
   "cell_type": "code",
   "execution_count": 8,
   "id": "88f34ada",
   "metadata": {},
   "outputs": [],
   "source": [
    "# Learning rate\n",
    "learning_rate = 0.01\n",
    "\n",
    "# Nombre de loops\n",
    "training_epochs = 100\n",
    "\n",
    "# Déclarez les poids\n",
    "weight = tf.Variable(0.)\n",
    "bias = tf.Variable(0.)"
   ]
  },
  {
   "cell_type": "code",
   "execution_count": 9,
   "id": "6f13ba09",
   "metadata": {},
   "outputs": [],
   "source": [
    "# Définissez l'expression y de la régression linéaire\n",
    "def linreg(x):\n",
    "    y = weight*x + bias\n",
    "    return y"
   ]
  },
  {
   "cell_type": "code",
   "execution_count": 10,
   "id": "67fe325d",
   "metadata": {},
   "outputs": [],
   "source": [
    "# Définissez la \"loss fonction\" (MSE)\n",
    "def squared_error(y_pred, y_true):\n",
    "    return tf.reduce_mean(tf.square(y_pred - y_true))"
   ]
  },
  {
   "cell_type": "code",
   "execution_count": 11,
   "id": "b0806472",
   "metadata": {},
   "outputs": [
    {
     "name": "stdout",
     "output_type": "stream",
     "text": [
      "Epoch count 0: Loss value: 35.050819396972656\n",
      "Epoch count 1: Loss value: 4.307060718536377\n",
      "Epoch count 2: Loss value: 1.257694959640503\n",
      "Epoch count 3: Loss value: 0.9550932049751282\n",
      "Epoch count 4: Loss value: 0.9249200224876404\n",
      "Epoch count 5: Loss value: 0.9217684268951416\n",
      "Epoch count 6: Loss value: 0.9212983846664429\n",
      "Epoch count 7: Loss value: 0.921095609664917\n",
      "Epoch count 8: Loss value: 0.9209210276603699\n",
      "Epoch count 9: Loss value: 0.9207507967948914\n",
      "Epoch count 10: Loss value: 0.9205824136734009\n",
      "Epoch count 11: Loss value: 0.9204158782958984\n",
      "Epoch count 12: Loss value: 0.9202508330345154\n",
      "Epoch count 13: Loss value: 0.9200875759124756\n",
      "Epoch count 14: Loss value: 0.9199256896972656\n",
      "Epoch count 15: Loss value: 0.9197656512260437\n",
      "Epoch count 16: Loss value: 0.9196072220802307\n",
      "Epoch count 17: Loss value: 0.9194502234458923\n",
      "Epoch count 18: Loss value: 0.9192947149276733\n",
      "Epoch count 19: Loss value: 0.9191409349441528\n",
      "Epoch count 20: Loss value: 0.9189886450767517\n",
      "Epoch count 21: Loss value: 0.9188376665115356\n",
      "Epoch count 22: Loss value: 0.9186883568763733\n",
      "Epoch count 23: Loss value: 0.9185404777526855\n",
      "Epoch count 24: Loss value: 0.9183940291404724\n",
      "Epoch count 25: Loss value: 0.9182490706443787\n",
      "Epoch count 26: Loss value: 0.9181056022644043\n",
      "Epoch count 27: Loss value: 0.9179635643959045\n",
      "Epoch count 28: Loss value: 0.9178228974342346\n",
      "Epoch count 29: Loss value: 0.9176835417747498\n",
      "Epoch count 30: Loss value: 0.9175456166267395\n",
      "Epoch count 31: Loss value: 0.9174091219902039\n",
      "Epoch count 32: Loss value: 0.9172738790512085\n",
      "Epoch count 33: Loss value: 0.9171400666236877\n",
      "Epoch count 34: Loss value: 0.9170074462890625\n",
      "Epoch count 35: Loss value: 0.9168763756752014\n",
      "Epoch count 36: Loss value: 0.9167463779449463\n",
      "Epoch count 37: Loss value: 0.9166178107261658\n",
      "Epoch count 38: Loss value: 0.9164903163909912\n",
      "Epoch count 39: Loss value: 0.916364312171936\n",
      "Epoch count 40: Loss value: 0.916239321231842\n",
      "Epoch count 41: Loss value: 0.9161158800125122\n",
      "Epoch count 42: Loss value: 0.9159935116767883\n",
      "Epoch count 43: Loss value: 0.9158722162246704\n",
      "Epoch count 44: Loss value: 0.9157522320747375\n",
      "Epoch count 45: Loss value: 0.9156333804130554\n",
      "Epoch count 46: Loss value: 0.9155158996582031\n",
      "Epoch count 47: Loss value: 0.9153993725776672\n",
      "Epoch count 48: Loss value: 0.9152840971946716\n",
      "Epoch count 49: Loss value: 0.9151699542999268\n",
      "Epoch count 50: Loss value: 0.9150569438934326\n",
      "Epoch count 51: Loss value: 0.9149450063705444\n",
      "Epoch count 52: Loss value: 0.9148342609405518\n",
      "Epoch count 53: Loss value: 0.9147246479988098\n",
      "Epoch count 54: Loss value: 0.9146159291267395\n",
      "Epoch count 55: Loss value: 0.9145084619522095\n",
      "Epoch count 56: Loss value: 0.9144020080566406\n",
      "Epoch count 57: Loss value: 0.914296567440033\n",
      "Epoch count 58: Loss value: 0.9141921997070312\n",
      "Epoch count 59: Loss value: 0.9140889048576355\n",
      "Epoch count 60: Loss value: 0.9139865040779114\n",
      "Epoch count 61: Loss value: 0.9138851761817932\n",
      "Epoch count 62: Loss value: 0.913784921169281\n",
      "Epoch count 63: Loss value: 0.91368567943573\n",
      "Epoch count 64: Loss value: 0.9135873317718506\n",
      "Epoch count 65: Loss value: 0.9134899973869324\n",
      "Epoch count 66: Loss value: 0.9133936166763306\n",
      "Epoch count 67: Loss value: 0.9132981896400452\n",
      "Epoch count 68: Loss value: 0.9132036566734314\n",
      "Epoch count 69: Loss value: 0.9131101369857788\n",
      "Epoch count 70: Loss value: 0.9130174517631531\n",
      "Epoch count 71: Loss value: 0.9129257798194885\n",
      "Epoch count 72: Loss value: 0.9128349423408508\n",
      "Epoch count 73: Loss value: 0.9127451181411743\n",
      "Epoch count 74: Loss value: 0.9126560688018799\n",
      "Epoch count 75: Loss value: 0.9125679731369019\n",
      "Epoch count 76: Loss value: 0.9124807715415955\n",
      "Epoch count 77: Loss value: 0.9123944044113159\n",
      "Epoch count 78: Loss value: 0.9123088121414185\n",
      "Epoch count 79: Loss value: 0.9122241139411926\n",
      "Epoch count 80: Loss value: 0.9121403694152832\n",
      "Epoch count 81: Loss value: 0.9120572805404663\n",
      "Epoch count 82: Loss value: 0.9119749665260315\n",
      "Epoch count 83: Loss value: 0.9118936657905579\n",
      "Epoch count 84: Loss value: 0.9118131399154663\n",
      "Epoch count 85: Loss value: 0.9117333889007568\n",
      "Epoch count 86: Loss value: 0.9116542935371399\n",
      "Epoch count 87: Loss value: 0.9115761518478394\n",
      "Epoch count 88: Loss value: 0.9114987254142761\n",
      "Epoch count 89: Loss value: 0.9114220142364502\n",
      "Epoch count 90: Loss value: 0.9113461375236511\n",
      "Epoch count 91: Loss value: 0.9112709164619446\n",
      "Epoch count 92: Loss value: 0.9111965894699097\n",
      "Epoch count 93: Loss value: 0.9111229777336121\n",
      "Epoch count 94: Loss value: 0.9110499620437622\n",
      "Epoch count 95: Loss value: 0.9109777212142944\n",
      "Epoch count 96: Loss value: 0.910906195640564\n",
      "Epoch count 97: Loss value: 0.9108354449272156\n",
      "Epoch count 98: Loss value: 0.9107652902603149\n",
      "Epoch count 99: Loss value: 0.9106959700584412\n"
     ]
    }
   ],
   "source": [
    "# Entraînez le modèle\n",
    "for epoch in range(training_epochs):\n",
    "\n",
    "    # Calculez la \"loss function\" dans le contexte Gradient Tape\n",
    "    with tf.GradientTape() as tape:\n",
    "        y_predicted = linreg(x_train)\n",
    "        loss = squared_error(y_predicted, y_train)\n",
    "\n",
    "        # Définissez le gradient\n",
    "        gradients = tape.gradient(loss, [weight,bias])\n",
    "\n",
    "        # Ajustez les poids\n",
    "        weight.assign_sub(gradients[0]*learning_rate)\n",
    "        bias.assign_sub(gradients[1]*learning_rate)\n",
    "\n",
    "        # Affichez la sortie\n",
    "        print(f\"Epoch count {epoch}: Loss value: {loss.numpy()}\")"
   ]
  },
  {
   "cell_type": "code",
   "execution_count": 12,
   "id": "bf7f10ef",
   "metadata": {},
   "outputs": [
    {
     "name": "stdout",
     "output_type": "stream",
     "text": [
      "1.0030289\n",
      "0.042331822\n"
     ]
    }
   ],
   "source": [
    "# Affichez les paramètres du modèle (weight et bias)\n",
    "print(weight.numpy())\n",
    "print(bias.numpy())"
   ]
  },
  {
   "cell_type": "code",
   "execution_count": 13,
   "id": "a7cc00d7",
   "metadata": {},
   "outputs": [
    {
     "data": {
      "image/png": "[encoded data removed]",
      "text/plain": [
       "<Figure size 432x288 with 1 Axes>"
      ]
     },
     "metadata": {
      "needs_background": "light"
     },
     "output_type": "display_data"
    }
   ],
   "source": [
    "# Nuage de points + droite de la régression\n",
    "plt.scatter(x_train, y_train)\n",
    "plt.plot(x_train, linreg(x_train), 'r')\n",
    "plt.show()"
   ]
  },
  {
   "cell_type": "markdown",
   "id": "6f0f61b8",
   "metadata": {},
   "source": [
    "# Régression logistique"
   ]
  },
  {
   "cell_type": "code",
   "execution_count": 14,
   "id": "ecd9b375",
   "metadata": {},
   "outputs": [],
   "source": [
    "# On télécharge les données MNIST\n",
    "from tensorflow.keras.datasets import mnist\n",
    "\n",
    "(x_train, y_train), (x_test, y_test) = mnist.load_data()"
   ]
  },
  {
   "cell_type": "code",
   "execution_count": 15,
   "id": "ad640b3c",
   "metadata": {},
   "outputs": [],
   "source": [
    "# Les paramètres des données MNIST\n",
    "num_classes = 10 # total classes (0-9 digits).\n",
    "num_features = 784 # data features (img shape: 28*28).\n",
    "\n",
    "# Les paramètres d'entraînement\n",
    "learning_rate = 0.01\n",
    "training_steps = 1000\n",
    "batch_size = 256\n",
    "display_step = 50"
   ]
  },
  {
   "cell_type": "code",
   "execution_count": 16,
   "id": "a8503210",
   "metadata": {},
   "outputs": [],
   "source": [
    "# Conversion en float32.\n",
    "x_train, x_test = np.array(x_train, np.float32), np.array(x_test, np.float32)\n",
    "\n",
    "# On applati les images dans un vector 1-D, avec 784 features (28*28).\n",
    "x_train, x_test = x_train.reshape([-1, num_features]), x_test.reshape([-1, num_features])\n",
    "\n",
    "# Normalisation des images: [0, 255] -> [0, 1]\n",
    "x_train, x_test = x_train / 255., x_test / 255.\n",
    "\n",
    "# Utilisez tf.data API pour \"shuffle\" et \"batch\" les données\n",
    "train_data = tf.data.Dataset.from_tensor_slices((x_train, y_train))\n",
    "train_data = train_data.repeat().shuffle(5000).batch(batch_size).prefetch(1)"
   ]
  },
  {
   "cell_type": "code",
   "execution_count": 17,
   "id": "88d927fd",
   "metadata": {},
   "outputs": [],
   "source": [
    "# Création du poids avec dimensions [784, 10] (28*28 features des images et le nombre classes)\n",
    "W = tf.Variable(tf.ones([num_features, num_classes]), name=\"weight\")\n",
    "\n",
    "# Le biais, format [10] (nombre de classes)\n",
    "b = tf.Variable(tf.zeros([num_classes]), name=\"bias\")\n",
    "\n",
    "# Régression logistique (Wx + b).\n",
    "def logistic_regression(x):\n",
    "    # Utilisez softmax pour normalizer les logits en distribution de probas.\n",
    "    return tf.nn.softmax(tf.matmul(x, W) + b)\n",
    "\n",
    "# Cross-Entropy loss function.\n",
    "def cross_entropy(y_pred, y_true):\n",
    "    # Encoder les labels via \"one hot encoder\"\n",
    "    y_true = tf.one_hot(y_true, depth=num_classes)\n",
    "    \n",
    "    # On limite les valeurs pour éviter l'erreur log(0)\n",
    "    y_pred = tf.clip_by_value(y_pred, 1e-9, 1.)\n",
    "    \n",
    "    # On calcule la cross-entropy.\n",
    "    return tf.reduce_mean(-tf.reduce_sum(y_true * tf.math.log(y_pred)))\n",
    "\n",
    "# Accuracy\n",
    "def accuracy(y_pred, y_true):\n",
    "    # La prédiction est l'index avec le score le plus élevé dans le vector de prédictions (i.e. argmax).\n",
    "    correct_prediction = tf.equal(tf.argmax(y_pred, 1), tf.cast(y_true, tf.int64))\n",
    "    return tf.reduce_mean(tf.cast(correct_prediction, tf.float32))"
   ]
  },
  {
   "cell_type": "code",
   "execution_count": 18,
   "id": "083c7303",
   "metadata": {},
   "outputs": [],
   "source": [
    "# Optimizer : Stochastic gradient descent\n",
    "optimizer = tf.optimizers.SGD(learning_rate)\n",
    "\n",
    "# Processus d'optimisation \n",
    "def run_optimization(x, y):\n",
    "    # Faites les calculs dans un GradientTape pour une différenciation automatique\n",
    "    with tf.GradientTape() as g:\n",
    "        pred = logistic_regression(x)\n",
    "        loss = cross_entropy(pred, y)\n",
    "    \n",
    "    # Calculez les gradients\n",
    "    gradients = g.gradient(loss, [W, b])\n",
    "    \n",
    "    # Mettez W et b à jour, en utilisant les gradients\n",
    "    optimizer.apply_gradients(zip(gradients, [W, b]))"
   ]
  },
  {
   "cell_type": "code",
   "execution_count": 19,
   "id": "54307846",
   "metadata": {},
   "outputs": [
    {
     "name": "stdout",
     "output_type": "stream",
     "text": [
      "step: 50, loss: 933.536255, accuracy: 0.734375\n",
      "step: 100, loss: 773.002991, accuracy: 0.734375\n",
      "step: 150, loss: 562.182007, accuracy: 0.839844\n",
      "step: 200, loss: 781.050659, accuracy: 0.742188\n",
      "step: 250, loss: 488.005310, accuracy: 0.800781\n",
      "step: 300, loss: 659.936401, accuracy: 0.843750\n",
      "step: 350, loss: 510.213135, accuracy: 0.867188\n",
      "step: 400, loss: 741.322937, accuracy: 0.722656\n",
      "step: 450, loss: 538.342529, accuracy: 0.851562\n",
      "step: 500, loss: 602.768250, accuracy: 0.835938\n",
      "step: 550, loss: 564.679016, accuracy: 0.789062\n",
      "step: 600, loss: 550.912048, accuracy: 0.863281\n",
      "step: 650, loss: 547.770508, accuracy: 0.824219\n",
      "step: 700, loss: 583.457153, accuracy: 0.882812\n",
      "step: 750, loss: 786.836853, accuracy: 0.800781\n",
      "step: 800, loss: 678.784729, accuracy: 0.835938\n",
      "step: 850, loss: 559.032959, accuracy: 0.835938\n",
      "step: 900, loss: 592.745239, accuracy: 0.835938\n",
      "step: 950, loss: 608.836731, accuracy: 0.835938\n",
      "step: 1000, loss: 585.605347, accuracy: 0.859375\n"
     ]
    }
   ],
   "source": [
    "# Lancez le training pour un nombre donné de steps\n",
    "for step, (batch_x, batch_y) in enumerate(train_data.take(training_steps), 1):\n",
    "    # Lancez l'optimisation pour mettre à jour W et b\n",
    "    run_optimization(batch_x, batch_y)\n",
    "    \n",
    "    if step % display_step == 0:\n",
    "        pred = logistic_regression(batch_x)\n",
    "        loss = cross_entropy(pred, batch_y)\n",
    "        acc = accuracy(pred, batch_y)\n",
    "        print(\"step: %i, loss: %f, accuracy: %f\" % (step, loss, acc))"
   ]
  },
  {
   "cell_type": "code",
   "execution_count": 20,
   "id": "1aa854e2",
   "metadata": {},
   "outputs": [
    {
     "name": "stdout",
     "output_type": "stream",
     "text": [
      "Test Accuracy: 0.831300\n"
     ]
    }
   ],
   "source": [
    "# Testez le modèle sur le test set\n",
    "pred = logistic_regression(x_test)\n",
    "print(\"Test Accuracy: %f\" % accuracy(pred, y_test))"
   ]
  },
  {
   "cell_type": "code",
   "execution_count": 21,
   "id": "a66593c2",
   "metadata": {},
   "outputs": [
    {
     "data": {
      "image/png": "[encoded data removed]",
      "text/plain": [
       "<Figure size 432x288 with 1 Axes>"
      ]
     },
     "metadata": {
      "needs_background": "light"
     },
     "output_type": "display_data"
    },
    {
     "name": "stdout",
     "output_type": "stream",
     "text": [
      "Model prediction: 7\n"
     ]
    },
    {
     "data": {
      "image/png": "[encoded data removed]",
      "text/plain": [
       "<Figure size 432x288 with 1 Axes>"
      ]
     },
     "metadata": {
      "needs_background": "light"
     },
     "output_type": "display_data"
    },
    {
     "name": "stdout",
     "output_type": "stream",
     "text": [
      "Model prediction: 1\n"
     ]
    },
    {
     "data": {
      "image/png": "[encoded data removed]",
      "text/plain": [
       "<Figure size 432x288 with 1 Axes>"
      ]
     },
     "metadata": {
      "needs_background": "light"
     },
     "output_type": "display_data"
    },
    {
     "name": "stdout",
     "output_type": "stream",
     "text": [
      "Model prediction: 1\n"
     ]
    },
    {
     "data": {
      "image/png": "[encoded data removed]",
      "text/plain": [
       "<Figure size 432x288 with 1 Axes>"
      ]
     },
     "metadata": {
      "needs_background": "light"
     },
     "output_type": "display_data"
    },
    {
     "name": "stdout",
     "output_type": "stream",
     "text": [
      "Model prediction: 0\n"
     ]
    },
    {
     "data": {
      "image/png": "[encoded data removed]",
      "text/plain": [
       "<Figure size 432x288 with 1 Axes>"
      ]
     },
     "metadata": {
      "needs_background": "light"
     },
     "output_type": "display_data"
    },
    {
     "name": "stdout",
     "output_type": "stream",
     "text": [
      "Model prediction: 4\n"
     ]
    }
   ],
   "source": [
    "# Appliquez le modèle sur 5 images du test set\n",
    "n_images = 5\n",
    "test_images = x_test[:n_images]\n",
    "predictions = logistic_regression(test_images)\n",
    "\n",
    "# Affichez l'image et la prédiction\n",
    "for i in range(n_images):\n",
    "    plt.imshow(np.reshape(test_images[i], [28, 28]), cmap='gray')\n",
    "    plt.show()\n",
    "    print(\"Model prediction: %i\" % np.argmax(predictions.numpy()[i]))"
   ]
  },
  {
   "cell_type": "markdown",
   "id": "6203da96",
   "metadata": {},
   "source": [
    "# Réseau de neuronnes v1"
   ]
  },
  {
   "cell_type": "markdown",
   "id": "7387d5df",
   "metadata": {},
   "source": [
    "D'abord, nous créons des données aléatoires. x est 1-D tensor, et le modèle doit prédire une valeur y."
   ]
  },
  {
   "cell_type": "code",
   "execution_count": 22,
   "id": "6d259fc6",
   "metadata": {},
   "outputs": [],
   "source": [
    "x = tf.Variable([[1.,2.]])\n",
    "y = 5"
   ]
  },
  {
   "cell_type": "markdown",
   "id": "b8ed6849",
   "metadata": {},
   "source": [
    "Les paramètres sont initisialisés avec une distribution normale, de moyenne 0 et variance 1"
   ]
  },
  {
   "cell_type": "code",
   "execution_count": 23,
   "id": "4a2fcd9b",
   "metadata": {},
   "outputs": [],
   "source": [
    "def initalize_parameters(size, variance=1.0):\n",
    "    return tf.Variable((tf.random.normal(size) * variance))\n",
    "\n",
    "first_layer_output_size = 3\n",
    "\n",
    "weights_1 = initalize_parameters((x.shape[1], first_layer_output_size))\n",
    "bias_1 = initalize_parameters([1])\n",
    "\n",
    "\n",
    "weights_2 = initalize_parameters((first_layer_output_size,1))\n",
    "bias_2 = initalize_parameters([1])"
   ]
  },
  {
   "cell_type": "markdown",
   "id": "d1042c3c",
   "metadata": {},
   "source": [
    "Le réseau de neuronnes doit contenir 2 fonctions linéaires et une fonction non-linéaire entre elles"
   ]
  },
  {
   "cell_type": "code",
   "execution_count": 24,
   "id": "3c6a4446",
   "metadata": {},
   "outputs": [],
   "source": [
    "def simple_neural_network(xb):\n",
    "    # linéaire (1,2 @ 2,3 = 1,3)\n",
    "    l1 = tf.matmul(xb, weights_1) + bias_1\n",
    "    \n",
    "    # non-linéaire\n",
    "    l2 = tf.math.maximum(l1, tf.Variable([0.]))\n",
    "    \n",
    "    # linéaire (1,3 @ 3,1 = 1,1)\n",
    "    l3 = tf.matmul(l2, weights_2) + bias_2\n",
    "    return l3"
   ]
  },
  {
   "cell_type": "markdown",
   "id": "f6f4be8d",
   "metadata": {},
   "source": [
    "La \"loss function\" (fonction de perte) mésure la distance entre les prédictions et les valeurs réelles"
   ]
  },
  {
   "cell_type": "code",
   "execution_count": 25,
   "id": "a3c3cb8d",
   "metadata": {},
   "outputs": [],
   "source": [
    "def loss_func(preds, yb):\n",
    "    # Mean Squared Error (MSE)\n",
    "    return tf.math.reduce_mean((preds-yb)**2)"
   ]
  },
  {
   "cell_type": "markdown",
   "id": "fddf2970",
   "metadata": {},
   "source": [
    "\"Learning rate\" (taux d'apprentissage) diminue le gradient, pour que les paramètres ne changent pas trop entre chaque step"
   ]
  },
  {
   "cell_type": "code",
   "execution_count": 26,
   "id": "c1b85cf7",
   "metadata": {},
   "outputs": [],
   "source": [
    "lr = tf.constant([10E-4])"
   ]
  },
  {
   "cell_type": "markdown",
   "id": "29b587bd",
   "metadata": {},
   "source": [
    "L'entraînement contient 3 étapes:\n",
    "\n",
    "1. Faire la prédiction\n",
    "2. Calculer la distance entre la prédiction et la vraie valeur (quand on calcule cela, le gradient est automatiquement calculé, donc on n'a pas besoin d'y penser)\n",
    "3. Mettre à jour les paramètres en faisant la soustraction du gradient * learning rate\n",
    "\n",
    "Le programme tourne jusqu'au moment où la perte est inférieure ou égale à 0.1.<br>\n",
    "A la fin, on plot la variaation de la perte"
   ]
  },
  {
   "cell_type": "code",
   "execution_count": 27,
   "id": "51e842ae",
   "metadata": {},
   "outputs": [
    {
     "data": {
      "image/png": "[encoded data removed]",
      "text/plain": [
       "<Figure size 432x288 with 1 Axes>"
      ]
     },
     "metadata": {
      "needs_background": "light"
     },
     "output_type": "display_data"
    }
   ],
   "source": [
    "losses = []\n",
    "\n",
    "while(len(losses) == 0 or losses[-1] > 0.1):\n",
    "    with tf.GradientTape() as tape:\n",
    "    # 1. Prédiction\n",
    "        preds = simple_neural_network(x)\n",
    "    # 2. Distance entre prédiction et vraie valeur (perte)\n",
    "        loss = loss_func(preds, y)\n",
    "    dW1, db1, dW2, db2 = tape.gradient(loss, \n",
    "                                       [weights_1, bias_1, \n",
    "                                        weights_2, bias_2])\n",
    "\n",
    "    # 3. MaJ des paramètres\n",
    "    weights_1.assign_sub(dW1 * lr)\n",
    "    bias_1.assign_sub(db1 * lr)\n",
    "\n",
    "    weights_2.assign_sub(dW2 * lr)\n",
    "    bias_2.assign_sub(db2 * lr)\n",
    "\n",
    "    losses.append(loss)\n",
    "\n",
    "plt.plot(list(range(len(losses))), losses)\n",
    "plt.ylabel('loss (MSE)')\n",
    "plt.xlabel('steps')\n",
    "plt.show()"
   ]
  },
  {
   "cell_type": "markdown",
   "id": "0894d9b6",
   "metadata": {},
   "source": [
    "# Réseau de neuronnes v2"
   ]
  },
  {
   "cell_type": "code",
   "execution_count": 28,
   "id": "53830ad4",
   "metadata": {},
   "outputs": [],
   "source": [
    "# Les paramètres d'entraînement\n",
    "learning_rate = 0.001\n",
    "training_steps = 3000\n",
    "batch_size = 256\n",
    "display_step = 100\n",
    "\n",
    "# Paramètres du réseau\n",
    "n_hidden_1 = 128 # 1ère couche: nombre de neurones.\n",
    "n_hidden_2 = 256 # 2ème couche: nombre de neurones."
   ]
  },
  {
   "cell_type": "code",
   "execution_count": 29,
   "id": "861e73db",
   "metadata": {},
   "outputs": [],
   "source": [
    "# Initialisation des poids et des biais\n",
    "random_normal = tf.initializers.RandomNormal()\n",
    "\n",
    "weights = {\n",
    "    'h1': tf.Variable(random_normal([num_features, n_hidden_1])),\n",
    "    'h2': tf.Variable(random_normal([n_hidden_1, n_hidden_2])),\n",
    "    'out': tf.Variable(random_normal([n_hidden_2, num_classes]))\n",
    "}\n",
    "biases = {\n",
    "    'b1': tf.Variable(tf.zeros([n_hidden_1])),\n",
    "    'b2': tf.Variable(tf.zeros([n_hidden_2])),\n",
    "    'out': tf.Variable(tf.zeros([num_classes]))\n",
    "}"
   ]
  },
  {
   "cell_type": "code",
   "execution_count": 30,
   "id": "92215d33",
   "metadata": {},
   "outputs": [],
   "source": [
    "# Créez le modèle\n",
    "def neural_net(x):\n",
    "    # Couche cachée avec 128 neurones\n",
    "    layer_1 = tf.add(tf.matmul(x, weights['h1']), biases['b1'])\n",
    "    # Appliquez la fonction sigmoid à l'output de layer_1 output\n",
    "    layer_1 = tf.nn.sigmoid(layer_1)\n",
    "    \n",
    "    # Couche cachée avec 256 neurones\n",
    "    layer_2 = tf.add(tf.matmul(layer_1, weights['h2']), biases['b2'])\n",
    "    # Appliquez la fonction sigmoid à l'output de layer_2 output\n",
    "    layer_2 = tf.nn.sigmoid(layer_2)\n",
    "    \n",
    "    # Output: couche avec un neurone par classe\n",
    "    out_layer = tf.matmul(layer_2, weights['out']) + biases['out']\n",
    "    \n",
    "    # Utilisez softmax pour normalizer les logits en distribution de probas.\n",
    "    return tf.nn.softmax(out_layer)"
   ]
  },
  {
   "cell_type": "code",
   "execution_count": 31,
   "id": "8c1d7445",
   "metadata": {},
   "outputs": [],
   "source": [
    "# Optimizer : Stochastic gradient descent\n",
    "optimizer = tf.optimizers.SGD(learning_rate)\n",
    "\n",
    "# Processus d'optimisation \n",
    "def run_optimization(x, y):\n",
    "    # Faites les calculs dans un GradientTape pour une différenciation automatique\n",
    "    with tf.GradientTape() as g:\n",
    "        pred = neural_net(x)\n",
    "        loss = cross_entropy(pred, y)\n",
    "        \n",
    "    # Variables à mettre à jour\n",
    "    trainable_variables = list(weights.values()) + list(biases.values())\n",
    "\n",
    "    # Calcul des gradients\n",
    "    gradients = g.gradient(loss, trainable_variables)\n",
    "    \n",
    "    # Mettez W et b à jour, en utilisant les gradients\n",
    "    optimizer.apply_gradients(zip(gradients, trainable_variables))"
   ]
  },
  {
   "cell_type": "code",
   "execution_count": 32,
   "id": "e0418524",
   "metadata": {},
   "outputs": [
    {
     "name": "stdout",
     "output_type": "stream",
     "text": [
      "step: 100, loss: 564.298462, accuracy: 0.238281\n",
      "step: 200, loss: 391.770447, accuracy: 0.589844\n",
      "step: 300, loss: 236.081940, accuracy: 0.734375\n",
      "step: 400, loss: 182.297531, accuracy: 0.785156\n",
      "step: 500, loss: 135.589233, accuracy: 0.859375\n",
      "step: 600, loss: 148.836365, accuracy: 0.847656\n",
      "step: 700, loss: 109.158859, accuracy: 0.878906\n",
      "step: 800, loss: 88.386841, accuracy: 0.898438\n",
      "step: 900, loss: 114.729568, accuracy: 0.867188\n",
      "step: 1000, loss: 84.792664, accuracy: 0.910156\n",
      "step: 1100, loss: 82.906883, accuracy: 0.906250\n",
      "step: 1200, loss: 67.747581, accuracy: 0.937500\n",
      "step: 1300, loss: 73.869675, accuracy: 0.910156\n",
      "step: 1400, loss: 66.268417, accuracy: 0.941406\n",
      "step: 1500, loss: 78.301704, accuracy: 0.929688\n",
      "step: 1600, loss: 69.321732, accuracy: 0.917969\n",
      "step: 1700, loss: 63.226711, accuracy: 0.925781\n",
      "step: 1800, loss: 73.459457, accuracy: 0.914062\n",
      "step: 1900, loss: 56.038223, accuracy: 0.933594\n",
      "step: 2000, loss: 64.559837, accuracy: 0.910156\n",
      "step: 2100, loss: 54.049892, accuracy: 0.960938\n",
      "step: 2200, loss: 70.579369, accuracy: 0.933594\n",
      "step: 2300, loss: 64.084648, accuracy: 0.917969\n",
      "step: 2400, loss: 49.325905, accuracy: 0.945312\n",
      "step: 2500, loss: 56.306889, accuracy: 0.921875\n",
      "step: 2600, loss: 67.031784, accuracy: 0.917969\n",
      "step: 2700, loss: 59.140121, accuracy: 0.921875\n",
      "step: 2800, loss: 65.298157, accuracy: 0.925781\n",
      "step: 2900, loss: 51.838303, accuracy: 0.949219\n",
      "step: 3000, loss: 56.938629, accuracy: 0.937500\n"
     ]
    }
   ],
   "source": [
    "# Lancez le training pour un nombre donné de steps\n",
    "for step, (batch_x, batch_y) in enumerate(train_data.take(training_steps), 1):\n",
    "    # Lancez l'optimisation pour mettre à jour W et b\n",
    "    run_optimization(batch_x, batch_y)\n",
    "    \n",
    "    if step % display_step == 0:\n",
    "        pred = neural_net(batch_x)\n",
    "        loss = cross_entropy(pred, batch_y)\n",
    "        acc = accuracy(pred, batch_y)\n",
    "        print(\"step: %i, loss: %f, accuracy: %f\" % (step, loss, acc))"
   ]
  },
  {
   "cell_type": "code",
   "execution_count": 33,
   "id": "47150de3",
   "metadata": {},
   "outputs": [
    {
     "name": "stdout",
     "output_type": "stream",
     "text": [
      "Test Accuracy: 0.934700\n"
     ]
    }
   ],
   "source": [
    "# Testez le modèle sur le test set\n",
    "pred = neural_net(x_test)\n",
    "print(\"Test Accuracy: %f\" % accuracy(pred, y_test))"
   ]
  },
  {
   "cell_type": "code",
   "execution_count": 34,
   "id": "9d632421",
   "metadata": {},
   "outputs": [
    {
     "data": {
      "image/png": "[encoded data removed]",
      "text/plain": [
       "<Figure size 432x288 with 1 Axes>"
      ]
     },
     "metadata": {
      "needs_background": "light"
     },
     "output_type": "display_data"
    },
    {
     "name": "stdout",
     "output_type": "stream",
     "text": [
      "Model prediction: 7\n"
     ]
    },
    {
     "data": {
      "image/png": "[encoded data removed]",
      "text/plain": [
       "<Figure size 432x288 with 1 Axes>"
      ]
     },
     "metadata": {
      "needs_background": "light"
     },
     "output_type": "display_data"
    },
    {
     "name": "stdout",
     "output_type": "stream",
     "text": [
      "Model prediction: 2\n"
     ]
    },
    {
     "data": {
      "image/png": "[encoded data removed]",
      "text/plain": [
       "<Figure size 432x288 with 1 Axes>"
      ]
     },
     "metadata": {
      "needs_background": "light"
     },
     "output_type": "display_data"
    },
    {
     "name": "stdout",
     "output_type": "stream",
     "text": [
      "Model prediction: 1\n"
     ]
    },
    {
     "data": {
      "image/png": "[encoded data removed]",
      "text/plain": [
       "<Figure size 432x288 with 1 Axes>"
      ]
     },
     "metadata": {
      "needs_background": "light"
     },
     "output_type": "display_data"
    },
    {
     "name": "stdout",
     "output_type": "stream",
     "text": [
      "Model prediction: 0\n"
     ]
    },
    {
     "data": {
      "image/png": "[encoded data removed]",
      "text/plain": [
       "<Figure size 432x288 with 1 Axes>"
      ]
     },
     "metadata": {
      "needs_background": "light"
     },
     "output_type": "display_data"
    },
    {
     "name": "stdout",
     "output_type": "stream",
     "text": [
      "Model prediction: 4\n"
     ]
    }
   ],
   "source": [
    "# Appliquez le modèle sur 5 images du test set\n",
    "n_images = 5\n",
    "test_images = x_test[:n_images]\n",
    "predictions = neural_net(test_images)\n",
    "\n",
    "# Affichez l'image et la prédiction\n",
    "for i in range(n_images):\n",
    "    plt.imshow(np.reshape(test_images[i], [28, 28]), cmap='gray')\n",
    "    plt.show()\n",
    "    print(\"Model prediction: %i\" % np.argmax(predictions.numpy()[i]))"
   ]
  },
  {
   "cell_type": "markdown",
   "id": "d2ef5af7",
   "metadata": {},
   "source": [
    "# CNN"
   ]
  },
  {
   "cell_type": "code",
   "execution_count": 35,
   "id": "24ca642d",
   "metadata": {},
   "outputs": [],
   "source": [
    "# Les paramètres d'entraînement\n",
    "learning_rate = 0.001\n",
    "training_steps = 200\n",
    "batch_size = 128\n",
    "display_step = 10\n",
    "\n",
    "# Paramètres du réseau\n",
    "conv1_filters = 32 # nombre de filtres pour la 1ère couche convolutionnelle\n",
    "conv2_filters = 64 # nombre de filtres pour la 2ème couche convolutionnelle\n",
    "fc1_units = 1024 # nombre de filtres pour la 1ère couche \"fully connected\""
   ]
  },
  {
   "cell_type": "code",
   "execution_count": 36,
   "id": "02674e74",
   "metadata": {},
   "outputs": [],
   "source": [
    "# Utilisez tf.data API pour \"shuffle\" et \"batch\" les données\n",
    "train_data = tf.data.Dataset.from_tensor_slices((x_train, y_train))\n",
    "train_data = train_data.repeat().shuffle(5000).batch(batch_size).prefetch(1)"
   ]
  },
  {
   "cell_type": "code",
   "execution_count": 37,
   "id": "6f24a330",
   "metadata": {},
   "outputs": [],
   "source": [
    "# On crée des wrappers pour la simplicité \n",
    "def conv2d(x, W, b, strides=1):\n",
    "    # Création d'un wrapper Conv2D avec un biais et une activation \"relu\"\n",
    "    x = tf.nn.conv2d(x, W, strides=[1, strides, strides, 1], padding='SAME')\n",
    "    x = tf.nn.bias_add(x, b)\n",
    "    return tf.nn.relu(x)\n",
    "\n",
    "def maxpool2d(x, k=2):\n",
    "    # wrapper MaxPool2D\n",
    "    return tf.nn.max_pool(x, ksize=[1, k, k, 1], strides=[1, k, k, 1], padding='SAME')"
   ]
  },
  {
   "cell_type": "code",
   "execution_count": 38,
   "id": "d003d5d1",
   "metadata": {},
   "outputs": [],
   "source": [
    "# Initialisation des poids et des biais\n",
    "random_normal = tf.initializers.RandomNormal()\n",
    "\n",
    "weights = {\n",
    "    # Couche conv. 1: 5x5 conv, 1 input, 32 filtres (MNIST n'a qu'un seul color channel).\n",
    "    'wc1': tf.Variable(random_normal([5, 5, 1, conv1_filters])),\n",
    "    # Couche conv 2: 5x5 conv, 32 inputs, 64 filtres.\n",
    "    'wc2': tf.Variable(random_normal([5, 5, conv1_filters, conv2_filters])),\n",
    "    # Couche \"fully connected\" 1: 7*7*64 inputs, 1024 units.\n",
    "    'wd1': tf.Variable(random_normal([7*7*64, fc1_units])),\n",
    "    # Couche \"fully connected\" externe: 1024 inputs, 10 units (nombre total de classes)\n",
    "    'out': tf.Variable(random_normal([fc1_units, num_classes]))\n",
    "}\n",
    "\n",
    "biases = {\n",
    "    'bc1': tf.Variable(tf.zeros([conv1_filters])),\n",
    "    'bc2': tf.Variable(tf.zeros([conv2_filters])),\n",
    "    'bd1': tf.Variable(tf.zeros([fc1_units])),\n",
    "    'out': tf.Variable(tf.zeros([num_classes]))\n",
    "}"
   ]
  },
  {
   "cell_type": "code",
   "execution_count": 39,
   "id": "b1a73a8a",
   "metadata": {},
   "outputs": [],
   "source": [
    "# Création du modèle\n",
    "def conv_net(x):\n",
    "    \n",
    "    # Format de l'input : [-1, 28, 28, 1]. Un batch d'images 28x28x1 (grayscale).\n",
    "    x = tf.reshape(x, [-1, 28, 28, 1])\n",
    "\n",
    "    # Couche conv. Format de sortie : [-1, 28, 28, 32].\n",
    "    conv1 = conv2d(x, weights['wc1'], biases['bc1'])\n",
    "    \n",
    "    # Max Pooling (down-sampling). Format de sortie : [-1, 14, 14, 32].\n",
    "    conv1 = maxpool2d(conv1, k=2)\n",
    "\n",
    "    # Couche conv. Format de sortie : [-1, 14, 14, 64].\n",
    "    conv2 = conv2d(conv1, weights['wc2'], biases['bc2'])\n",
    "    \n",
    "    # Max Pooling (down-sampling). Format de sortie : [-1, 7, 7, 64].\n",
    "    conv2 = maxpool2d(conv2, k=2)\n",
    "\n",
    "    # Reshape conv2 output to fit fully connected layer input, Format de sortie : [-1, 7*7*64].\n",
    "    fc1 = tf.reshape(conv2, [-1, weights['wd1'].get_shape().as_list()[0]])\n",
    "    \n",
    "    # Couche \"fully connected\". Format de sortie : [-1, 1024].\n",
    "    fc1 = tf.add(tf.matmul(fc1, weights['wd1']), biases['bd1'])\n",
    "    # Apply ReLU to fc1 output for non-linearity.\n",
    "    fc1 = tf.nn.relu(fc1)\n",
    "\n",
    "    # Couche \"fully connected\". Format de sortie : [-1, 10].\n",
    "    out = tf.add(tf.matmul(fc1, weights['out']), biases['out'])\n",
    "    \n",
    "    # Utilisez softmax pour normalizer les logits en distribution de probas.\n",
    "    return tf.nn.softmax(out)"
   ]
  },
  {
   "cell_type": "code",
   "execution_count": 40,
   "id": "6669c96f",
   "metadata": {},
   "outputs": [],
   "source": [
    "# Optimizer : ADAM\n",
    "optimizer = tf.optimizers.Adam(learning_rate)\n",
    "\n",
    "# Processus d'optmisation\n",
    "def run_optimization(x, y):\n",
    "    # Faites les calculs dans un GradientTape pour une différenciation automatique\n",
    "    with tf.GradientTape() as g:\n",
    "        pred = conv_net(x)\n",
    "        loss = cross_entropy(pred, y)\n",
    "        \n",
    "    # Variables à mettre à jour\n",
    "    trainable_variables = list(weights.values()) + list(biases.values())\n",
    "\n",
    "    # Calcul des gradients\n",
    "    gradients = g.gradient(loss, trainable_variables)\n",
    "    \n",
    "    # Mettez W et b à jour, en utilisant les gradients\n",
    "    optimizer.apply_gradients(zip(gradients, trainable_variables))"
   ]
  },
  {
   "cell_type": "code",
   "execution_count": 41,
   "id": "9d7b9e5a",
   "metadata": {},
   "outputs": [
    {
     "name": "stdout",
     "output_type": "stream",
     "text": [
      "step: 10, loss: 65.856148, accuracy: 0.828125\n",
      "step: 20, loss: 45.798260, accuracy: 0.882812\n",
      "step: 30, loss: 32.480133, accuracy: 0.929688\n",
      "step: 40, loss: 24.916887, accuracy: 0.929688\n",
      "step: 50, loss: 22.742733, accuracy: 0.968750\n",
      "step: 60, loss: 18.248802, accuracy: 0.945312\n",
      "step: 70, loss: 22.581703, accuracy: 0.937500\n",
      "step: 80, loss: 20.887663, accuracy: 0.953125\n",
      "step: 90, loss: 11.702826, accuracy: 0.968750\n",
      "step: 100, loss: 9.469274, accuracy: 0.960938\n",
      "step: 110, loss: 8.674151, accuracy: 0.968750\n",
      "step: 120, loss: 13.070910, accuracy: 0.960938\n",
      "step: 130, loss: 11.303048, accuracy: 0.976562\n",
      "step: 140, loss: 6.982526, accuracy: 0.984375\n",
      "step: 150, loss: 2.298556, accuracy: 0.992188\n",
      "step: 160, loss: 21.308952, accuracy: 0.945312\n",
      "step: 170, loss: 16.284729, accuracy: 0.953125\n",
      "step: 180, loss: 2.444903, accuracy: 1.000000\n",
      "step: 190, loss: 11.454903, accuracy: 0.984375\n",
      "step: 200, loss: 9.156561, accuracy: 0.984375\n"
     ]
    }
   ],
   "source": [
    "# Lancez le training pour un nombre donné de steps\n",
    "for step, (batch_x, batch_y) in enumerate(train_data.take(training_steps), 1):\n",
    "    # Lancez l'optimisation pour mettre à jour W et b\n",
    "    run_optimization(batch_x, batch_y)\n",
    "    \n",
    "    if step % display_step == 0:\n",
    "        pred = conv_net(batch_x)\n",
    "        loss = cross_entropy(pred, batch_y)\n",
    "        acc = accuracy(pred, batch_y)\n",
    "        print(\"step: %i, loss: %f, accuracy: %f\" % (step, loss, acc))"
   ]
  },
  {
   "cell_type": "code",
   "execution_count": 42,
   "id": "9e1332aa",
   "metadata": {},
   "outputs": [
    {
     "name": "stdout",
     "output_type": "stream",
     "text": [
      "Test Accuracy: 0.974800\n"
     ]
    }
   ],
   "source": [
    "# Testez le modèle sur le test set\n",
    "pred = conv_net(x_test)\n",
    "print(\"Test Accuracy: %f\" % accuracy(pred, y_test))"
   ]
  },
  {
   "cell_type": "code",
   "execution_count": 43,
   "id": "43959fa2",
   "metadata": {},
   "outputs": [
    {
     "data": {
      "image/png": "[encoded data removed]",
      "text/plain": [
       "<Figure size 432x288 with 1 Axes>"
      ]
     },
     "metadata": {
      "needs_background": "light"
     },
     "output_type": "display_data"
    },
    {
     "name": "stdout",
     "output_type": "stream",
     "text": [
      "Model prediction: 7\n"
     ]
    },
    {
     "data": {
      "image/png": "[encoded data removed]",
      "text/plain": [
       "<Figure size 432x288 with 1 Axes>"
      ]
     },
     "metadata": {
      "needs_background": "light"
     },
     "output_type": "display_data"
    },
    {
     "name": "stdout",
     "output_type": "stream",
     "text": [
      "Model prediction: 2\n"
     ]
    },
    {
     "data": {
      "image/png": "[encoded data removed]",
      "text/plain": [
       "<Figure size 432x288 with 1 Axes>"
      ]
     },
     "metadata": {
      "needs_background": "light"
     },
     "output_type": "display_data"
    },
    {
     "name": "stdout",
     "output_type": "stream",
     "text": [
      "Model prediction: 1\n"
     ]
    },
    {
     "data": {
      "image/png": "[encoded data removed]",
      "text/plain": [
       "<Figure size 432x288 with 1 Axes>"
      ]
     },
     "metadata": {
      "needs_background": "light"
     },
     "output_type": "display_data"
    },
    {
     "name": "stdout",
     "output_type": "stream",
     "text": [
      "Model prediction: 0\n"
     ]
    },
    {
     "data": {
      "image/png": "[encoded data removed]",
      "text/plain": [
       "<Figure size 432x288 with 1 Axes>"
      ]
     },
     "metadata": {
      "needs_background": "light"
     },
     "output_type": "display_data"
    },
    {
     "name": "stdout",
     "output_type": "stream",
     "text": [
      "Model prediction: 4\n"
     ]
    }
   ],
   "source": [
    "# Appliquez le modèle sur 5 images du test set\n",
    "n_images = 5\n",
    "test_images = x_test[:n_images]\n",
    "predictions = conv_net(test_images)\n",
    "\n",
    "# Display image and model prediction.\n",
    "for i in range(n_images):\n",
    "    plt.imshow(np.reshape(test_images[i], [28, 28]), cmap='gray')\n",
    "    plt.show()\n",
    "    print(\"Model prediction: %i\" % np.argmax(predictions.numpy()[i]))"
   ]
  },
  {
   "cell_type": "markdown",
   "id": "ca928a8c",
   "metadata": {},
   "source": [
    "# Tensorboard"
   ]
  },
  {
   "cell_type": "code",
   "execution_count": 44,
   "id": "533627c7",
   "metadata": {},
   "outputs": [],
   "source": [
    "# Chemin pour enregistrer les logs\n",
    "logs_path = '/tmp/tensorflow_logs/example/'\n",
    "\n",
    "# Paramètres d'entraînement\n",
    "learning_rate = 0.001\n",
    "training_steps = 3000\n",
    "batch_size = 256\n",
    "display_step = 100\n",
    "\n",
    "# Paramètres du réseau de neurones\n",
    "n_hidden_1 = 128 # 1st layer number of neurons.\n",
    "n_hidden_2 = 256 # 2nd layer number of neurons."
   ]
  },
  {
   "cell_type": "code",
   "execution_count": 45,
   "id": "848eaa0d",
   "metadata": {},
   "outputs": [],
   "source": [
    "# Utilisez tf.data API pour \"shuffle\" et \"batch\" les données\n",
    "train_data = tf.data.Dataset.from_tensor_slices((x_train, y_train))\n",
    "train_data = train_data.repeat().shuffle(5000).batch(batch_size).prefetch(1)"
   ]
  },
  {
   "cell_type": "code",
   "execution_count": 46,
   "id": "527a8da0",
   "metadata": {},
   "outputs": [],
   "source": [
    "# Initialisation des poids et des poids\n",
    "random_normal = tf.initializers.RandomNormal()\n",
    "\n",
    "weights = {\n",
    "    'h1_weights': tf.Variable(random_normal([num_features, n_hidden_1]), name='h1_weights'),\n",
    "    'h2_weights': tf.Variable(random_normal([n_hidden_1, n_hidden_2]), name='h2_weights'),\n",
    "    'logits_weights': tf.Variable(random_normal([n_hidden_2, num_classes]), name='logits_weights')\n",
    "}\n",
    "biases = {\n",
    "    'h1_bias': tf.Variable(tf.zeros([n_hidden_1]), name='h1_bias'),\n",
    "    'h2_bias': tf.Variable(tf.zeros([n_hidden_2]), name='h2_bias'),\n",
    "    'logits_bias': tf.Variable(tf.zeros([num_classes]), name='logits_bias')\n",
    "}"
   ]
  },
  {
   "cell_type": "code",
   "execution_count": 47,
   "id": "886b6cde",
   "metadata": {},
   "outputs": [],
   "source": [
    "# The computation graph to be traced.\n",
    "@tf.function\n",
    "def neural_net(x):\n",
    "    with tf.name_scope('Model'):\n",
    "        with tf.name_scope('HiddenLayer1'):\n",
    "        # Hidden fully connected layer with 128 neurons.\n",
    "            layer_1 = tf.add(tf.matmul(x, weights['h1_weights']), biases['h1_bias'])\n",
    "            # Apply sigmoid to layer_1 output for non-linearity.\n",
    "            layer_1 = tf.nn.sigmoid(layer_1)\n",
    "        with tf.name_scope('HiddenLayer2'):\n",
    "            # Hidden fully connected layer with 256 neurons.\n",
    "            layer_2 = tf.add(tf.matmul(layer_1, weights['h2_weights']), biases['h2_bias'])\n",
    "            # Apply sigmoid to layer_2 output for non-linearity.\n",
    "            layer_2 = tf.nn.sigmoid(layer_2)\n",
    "        with tf.name_scope('LogitsLayer'):\n",
    "            # Output fully connected layer with a neuron for each class.\n",
    "            out_layer = tf.matmul(layer_2, weights['logits_weights']) + biases['logits_bias']\n",
    "            # Apply softmax to normalize the logits to a probability distribution.\n",
    "            out_layer = tf.nn.softmax(out_layer)\n",
    "    return out_layer"
   ]
  },
  {
   "cell_type": "code",
   "execution_count": 48,
   "id": "9fff6689",
   "metadata": {},
   "outputs": [],
   "source": [
    "# Cross-Entropy loss function.\n",
    "def cross_entropy(y_pred, y_true):\n",
    "    with tf.name_scope('CrossEntropyLoss'):\n",
    "        # Encode label to a one hot vector.\n",
    "        y_true = tf.one_hot(y_true, depth=num_classes)\n",
    "        # Clip prediction values to avoid log(0) error.\n",
    "        y_pred = tf.clip_by_value(y_pred, 1e-9, 1.)\n",
    "        # Compute cross-entropy.\n",
    "        return tf.reduce_mean(-tf.reduce_sum(y_true * tf.math.log(y_pred)))\n",
    "\n",
    "# Accuracy\n",
    "def accuracy(y_pred, y_true):\n",
    "    with tf.name_scope('Accuracy'):\n",
    "        # La prédiction est l'index avec le score le plus élevé dans le vector de prédictions (i.e. argmax).\n",
    "        correct_prediction = tf.equal(tf.argmax(y_pred, 1), tf.cast(y_true, tf.int64))\n",
    "        return tf.reduce_mean(tf.cast(correct_prediction, tf.float32), axis=-1)\n",
    "    \n",
    "# Optimizer : Stochastic gradient descent\n",
    "with tf.name_scope('Optimizer'):\n",
    "    optimizer = tf.optimizers.SGD(learning_rate)"
   ]
  },
  {
   "cell_type": "code",
   "execution_count": 49,
   "id": "3a93bb03",
   "metadata": {},
   "outputs": [],
   "source": [
    "# Processus d'optimisation \n",
    "def run_optimization(x, y):\n",
    "    # Faites les calculs dans un GradientTape pour une différenciation automatique\n",
    "    with tf.GradientTape() as g:\n",
    "        pred = neural_net(x)\n",
    "        loss = cross_entropy(pred, y)\n",
    "        \n",
    "    # Variables à mettre à jour\n",
    "    trainable_variables = list(weights.values()) + list(biases.values())\n",
    "\n",
    "    # Calcul des gradients\n",
    "    gradients = g.gradient(loss, trainable_variables)\n",
    "    \n",
    "    # Mettez W et b à jour, en utilisant les gradients\n",
    "    optimizer.apply_gradients(zip(gradients, trainable_variables))"
   ]
  },
  {
   "cell_type": "code",
   "execution_count": 50,
   "id": "1291a065",
   "metadata": {},
   "outputs": [],
   "source": [
    "# Visualisation des poids et biais en forme d'histogramme dans Tensorboard\n",
    "def summarize_weights(step):\n",
    "    for w in weights:\n",
    "        tf.summary.histogram(w.replace('_', '/'), weights[w], step=step)\n",
    "    for b in biases:\n",
    "        tf.summary.histogram(b.replace('_', '/'), biases[b], step=step)"
   ]
  },
  {
   "cell_type": "code",
   "execution_count": 51,
   "id": "d1b70e27",
   "metadata": {},
   "outputs": [],
   "source": [
    "# Création d'un \"Summary Writer\" pour enregistrer les metriques dans Tensorboard\n",
    "summary_writer = tf.summary.create_file_writer(logs_path)"
   ]
  },
  {
   "cell_type": "code",
   "execution_count": 52,
   "id": "8d19af6c",
   "metadata": {},
   "outputs": [
    {
     "name": "stdout",
     "output_type": "stream",
     "text": [
      "WARNING:tensorflow:From C:\\Users\\Avisia\\anaconda3\\lib\\site-packages\\tensorflow\\python\\ops\\summary_ops_v2.py:1311: start (from tensorflow.python.eager.profiler) is deprecated and will be removed after 2020-07-01.\n",
      "Instructions for updating:\n",
      "use `tf.profiler.experimental.start` instead.\n",
      "WARNING:tensorflow:From C:\\Users\\Avisia\\anaconda3\\lib\\site-packages\\tensorflow\\python\\ops\\summary_ops_v2.py:1362: stop (from tensorflow.python.eager.profiler) is deprecated and will be removed after 2020-07-01.\n",
      "Instructions for updating:\n",
      "use `tf.profiler.experimental.stop` instead.\n",
      "WARNING:tensorflow:From C:\\Users\\Avisia\\anaconda3\\lib\\site-packages\\tensorflow\\python\\ops\\summary_ops_v2.py:1362: save (from tensorflow.python.eager.profiler) is deprecated and will be removed after 2020-07-01.\n",
      "Instructions for updating:\n",
      "`tf.python.eager.profiler` has deprecated, use `tf.profiler` instead.\n",
      "WARNING:tensorflow:From C:\\Users\\Avisia\\anaconda3\\lib\\site-packages\\tensorflow\\python\\eager\\profiler.py:151: maybe_create_event_file (from tensorflow.python.eager.profiler) is deprecated and will be removed after 2020-07-01.\n",
      "Instructions for updating:\n",
      "`tf.python.eager.profiler` has deprecated, use `tf.profiler` instead.\n",
      "step: 100, loss: 557.854248, accuracy: 0.343750\n",
      "step: 200, loss: 417.018127, accuracy: 0.480469\n",
      "step: 300, loss: 243.685562, accuracy: 0.738281\n",
      "step: 400, loss: 169.147110, accuracy: 0.808594\n",
      "step: 500, loss: 152.028397, accuracy: 0.820312\n",
      "step: 600, loss: 123.014130, accuracy: 0.878906\n",
      "step: 700, loss: 97.151382, accuracy: 0.921875\n",
      "step: 800, loss: 109.249733, accuracy: 0.871094\n",
      "step: 900, loss: 103.609726, accuracy: 0.875000\n",
      "step: 1000, loss: 108.167953, accuracy: 0.871094\n",
      "step: 1100, loss: 93.410202, accuracy: 0.890625\n",
      "step: 1200, loss: 77.492889, accuracy: 0.910156\n",
      "step: 1300, loss: 84.970001, accuracy: 0.902344\n",
      "step: 1400, loss: 71.099823, accuracy: 0.906250\n",
      "step: 1500, loss: 75.940147, accuracy: 0.910156\n",
      "step: 1600, loss: 71.935272, accuracy: 0.917969\n",
      "step: 1700, loss: 73.857697, accuracy: 0.937500\n",
      "step: 1800, loss: 58.092678, accuracy: 0.945312\n",
      "step: 1900, loss: 50.518528, accuracy: 0.941406\n",
      "step: 2000, loss: 80.033798, accuracy: 0.910156\n",
      "step: 2100, loss: 58.062172, accuracy: 0.945312\n",
      "step: 2200, loss: 77.303604, accuracy: 0.921875\n",
      "step: 2300, loss: 50.015556, accuracy: 0.941406\n",
      "step: 2400, loss: 77.018639, accuracy: 0.925781\n",
      "step: 2500, loss: 86.431557, accuracy: 0.929688\n",
      "step: 2600, loss: 61.206860, accuracy: 0.925781\n",
      "step: 2700, loss: 56.595295, accuracy: 0.929688\n",
      "step: 2800, loss: 43.612804, accuracy: 0.960938\n",
      "step: 2900, loss: 51.250515, accuracy: 0.945312\n",
      "step: 3000, loss: 68.977341, accuracy: 0.917969\n"
     ]
    }
   ],
   "source": [
    "# Lancez le training pour un nombre donné de steps\n",
    "for step, (batch_x, batch_y) in enumerate(train_data.take(training_steps), 1):\n",
    "    \n",
    "    # On \"trace\" le \"computation graph\". IL ne change pas, donc on ne l'exporte que la 1ère fois\n",
    "    if step == 1:\n",
    "        tf.summary.trace_on(graph=True, profiler=True)\n",
    "    \n",
    "    # On lance l'optimisation (computation graph).\n",
    "    run_optimization(batch_x, batch_y)\n",
    "    \n",
    "    # Exportation du computation graph\n",
    "    if step == 1:\n",
    "        with summary_writer.as_default():\n",
    "            tf.summary.trace_export(\n",
    "                  name=\"trace\",\n",
    "                  step=0,\n",
    "                  profiler_outdir=logs_path)\n",
    "\n",
    "    if step % display_step == 0:\n",
    "        pred = neural_net(batch_x)\n",
    "        loss = cross_entropy(pred, batch_y)\n",
    "        acc = accuracy(pred, batch_y)\n",
    "        print(\"step: %i, loss: %f, accuracy: %f\" % (step, loss, acc))\n",
    "        \n",
    "        # Enregistrement des métriques de loss/acc et des poids dans Tensorboard\n",
    "        with summary_writer.as_default():\n",
    "            tf.summary.scalar('loss', loss, step=step)\n",
    "            tf.summary.scalar('accuracy', acc, step=step)\n",
    "            summarize_weights(step)"
   ]
  },
  {
   "cell_type": "code",
   "execution_count": 53,
   "id": "24d66b53",
   "metadata": {},
   "outputs": [],
   "source": [
    "#!tensorboard --logdir=/tmp/tensorflow_logs"
   ]
  },
  {
   "cell_type": "markdown",
   "id": "ca1f3ee5",
   "metadata": {},
   "source": [
    "Dans un nouvel onglet, allez sur http://localhost:6006/#scalars (n'attendez pas que la commande d'au-dessous soit finie)"
   ]
  }
 ],
 "metadata": {
  "kernelspec": {
   "display_name": "Python 3",
   "language": "python",
   "name": "python3"
  },
  "language_info": {
   "codemirror_mode": {
    "name": "ipython",
    "version": 3
   },
   "file_extension": ".py",
   "mimetype": "text/x-python",
   "name": "python",
   "nbconvert_exporter": "python",
   "pygments_lexer": "ipython3",
   "version": "3.8.8"
  }
 },
 "nbformat": 4,
 "nbformat_minor": 5
}
